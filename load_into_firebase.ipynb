{
 "cells": [
  {
   "cell_type": "code",
   "execution_count": 25,
   "id": "061bc961",
   "metadata": {},
   "outputs": [
    {
     "ename": "ValueError",
     "evalue": "The default Firebase app already exists. This means you called initialize_app() more than once without providing an app name as the second argument. In most cases you only need to call initialize_app() once. But if you do want to initialize multiple apps, pass a second argument to initialize_app() to give each app a unique name.",
     "output_type": "error",
     "traceback": [
      "\u001b[1;31m---------------------------------------------------------------------------\u001b[0m",
      "\u001b[1;31mValueError\u001b[0m                                Traceback (most recent call last)",
      "\u001b[1;32m~\\AppData\\Local\\Temp/ipykernel_23460/2666702812.py\u001b[0m in \u001b[0;36m<module>\u001b[1;34m\u001b[0m\n\u001b[0;32m      7\u001b[0m \u001b[0mpd\u001b[0m\u001b[1;33m.\u001b[0m\u001b[0mset_option\u001b[0m\u001b[1;33m(\u001b[0m\u001b[1;34m'display.max_columns'\u001b[0m\u001b[1;33m,\u001b[0m \u001b[1;32mNone\u001b[0m\u001b[1;33m)\u001b[0m\u001b[1;33m\u001b[0m\u001b[1;33m\u001b[0m\u001b[0m\n\u001b[0;32m      8\u001b[0m \u001b[0mcred\u001b[0m \u001b[1;33m=\u001b[0m \u001b[0mcredentials\u001b[0m\u001b[1;33m.\u001b[0m\u001b[0mCertificate\u001b[0m\u001b[1;33m(\u001b[0m\u001b[1;34m\"./key.json\"\u001b[0m\u001b[1;33m)\u001b[0m\u001b[1;33m\u001b[0m\u001b[1;33m\u001b[0m\u001b[0m\n\u001b[1;32m----> 9\u001b[1;33m \u001b[0mapp\u001b[0m \u001b[1;33m=\u001b[0m \u001b[0mfirebase_admin\u001b[0m\u001b[1;33m.\u001b[0m\u001b[0minitialize_app\u001b[0m\u001b[1;33m(\u001b[0m\u001b[0mcred\u001b[0m\u001b[1;33m)\u001b[0m\u001b[1;33m\u001b[0m\u001b[1;33m\u001b[0m\u001b[0m\n\u001b[0m",
      "\u001b[1;32m~\\Anaconda3\\envs\\Hackpsu\\lib\\site-packages\\firebase_admin\\__init__.py\u001b[0m in \u001b[0;36minitialize_app\u001b[1;34m(credential, options, name)\u001b[0m\n\u001b[0;32m     70\u001b[0m     \u001b[1;32mif\u001b[0m \u001b[0mname\u001b[0m \u001b[1;33m==\u001b[0m \u001b[0m_DEFAULT_APP_NAME\u001b[0m\u001b[1;33m:\u001b[0m\u001b[1;33m\u001b[0m\u001b[1;33m\u001b[0m\u001b[0m\n\u001b[0;32m     71\u001b[0m         raise ValueError((\n\u001b[1;32m---> 72\u001b[1;33m             \u001b[1;34m'The default Firebase app already exists. This means you called '\u001b[0m\u001b[1;33m\u001b[0m\u001b[1;33m\u001b[0m\u001b[0m\n\u001b[0m\u001b[0;32m     73\u001b[0m             \u001b[1;34m'initialize_app() more than once without providing an app name as '\u001b[0m\u001b[1;33m\u001b[0m\u001b[1;33m\u001b[0m\u001b[0m\n\u001b[0;32m     74\u001b[0m             \u001b[1;34m'the second argument. In most cases you only need to call '\u001b[0m\u001b[1;33m\u001b[0m\u001b[1;33m\u001b[0m\u001b[0m\n",
      "\u001b[1;31mValueError\u001b[0m: The default Firebase app already exists. This means you called initialize_app() more than once without providing an app name as the second argument. In most cases you only need to call initialize_app() once. But if you do want to initialize multiple apps, pass a second argument to initialize_app() to give each app a unique name."
     ]
    }
   ],
   "source": [
    "import pandas as pd\n",
    "import firebase_admin\n",
    "import google.cloud\n",
    "from firebase_admin import credentials, firestore\n",
    "\n",
    "cred = credentials.Certificate(\"./key.json\")\n",
    "app = firebase_admin.initialize_app(cred)"
   ]
  },
  {
   "cell_type": "code",
   "execution_count": 32,
   "id": "b728b48c",
   "metadata": {},
   "outputs": [],
   "source": [
    "pd.set_option('display.max_columns', None)\n",
    "pd.set_option('display.max_rows', None)"
   ]
  },
  {
   "cell_type": "code",
   "execution_count": 176,
   "id": "49c356ba",
   "metadata": {},
   "outputs": [
    {
     "name": "stdout",
     "output_type": "stream",
     "text": [
      "Index(['Unnamed: 0', 'Id', 'BIRTHDATE', 'DEATHDATE', 'SSN', 'DRIVERS',\n",
      "       'PASSPORT', 'PREFIX', 'FIRST', 'LAST', 'MARITAL', 'RACE', 'ETHNICITY',\n",
      "       'GENDER', 'BIRTHPLACE', 'ADDRESS', 'CITY', 'STATE', 'COUNTY', 'ZIP',\n",
      "       'LAT', 'LON', 'HEALTHCARE_EXPENSES', 'HEALTHCARE_COVERAGE'],\n",
      "      dtype='object')\n"
     ]
    }
   ],
   "source": [
    "patients = pd.read_csv('patients.csv')\n",
    "print(patients.columns[:24])\n",
    "patients = patients.drop('Unnamed: 0', axis=1)\n",
    "# patients.rename(columns={patients.columns})\n",
    "patients.columns = map(str.lower, patients.columns)\n",
    "patients['name'] = patients['first'].str.replace('\\d+', '', regex=True) +' ' + patients['last'].str.replace('\\d+', '', regex=True)\n",
    "patients = patients.drop_duplicates(subset='name')\n",
    "patients = patients.drop(['first', 'last'], axis=1)\n",
    "patients = patients.rename(columns={'gender': 'sex'})\n",
    "\n",
    "patients = patients.reset_index()"
   ]
  },
  {
   "cell_type": "code",
   "execution_count": 174,
   "id": "2269a8b9",
   "metadata": {},
   "outputs": [
    {
     "data": {
      "text/plain": [
       "971"
      ]
     },
     "execution_count": 174,
     "metadata": {},
     "output_type": "execute_result"
    }
   ],
   "source": [
    "\n",
    "pedi_index = []\n",
    "family_index=[]\n",
    "for i in patients.id.keys():\n",
    "    if int(patients['birthdate'][i][:4]) > 2003:\n",
    "        pedi_index.append(i)\n",
    "    else:\n",
    "        family_index.append(i)\n",
    "len(family_index)"
   ]
  },
  {
   "cell_type": "code",
   "execution_count": 172,
   "id": "4ec976ba",
   "metadata": {},
   "outputs": [
    {
     "data": {
      "text/plain": [
       "Int64Index([  13,   20,   22,   26,   32,   34,   40,   45,   62,   80,\n",
       "            ...\n",
       "            1080, 1087, 1101, 1106, 1113, 1115, 1126, 1128, 1144, 1149],\n",
       "           dtype='int64', length=141)"
      ]
     },
     "execution_count": 172,
     "metadata": {},
     "output_type": "execute_result"
    }
   ],
   "source": [
    "allergy_index = patients[patients['allergies'].notna()].index\n",
    "allergy_index"
   ]
  },
  {
   "cell_type": "code",
   "execution_count": null,
   "id": "0c5b569a",
   "metadata": {},
   "outputs": [],
   "source": []
  },
  {
   "cell_type": "code",
   "execution_count": 138,
   "id": "be646689",
   "metadata": {},
   "outputs": [],
   "source": [
    "db = firestore.client()\n",
    "\n",
    "def addData(s, doctor, patient_id): \n",
    "        mode_ref = db.collection(u'Professionals').document(doctor).collection(u'Patients').document(patient_id)\n",
    "#         for k, v in s.iteritems():\n",
    "        mode_ref.set(s.to_dict(),merge=True)\n",
    "\n"
   ]
  },
  {
   "cell_type": "code",
   "execution_count": 177,
   "id": "90d88e24",
   "metadata": {},
   "outputs": [],
   "source": [
    "family = u'QM7V3Ud0gbOK907UD2rMnMQiGCN2'\n",
    "health_insurance = u'Hn6SZn6uj4RA7k9Owk8KHu12cRH2'\n",
    "pediatrician = u'yyRs0hOgEFXFJVe5ugZWystm1uh1'\n",
    "allerginist = u'5yGQKp4Fk4UY0oLkc9e5ylczmYp2'\n",
    "\n",
    "def profData(prof, indexes):\n",
    "    for i in range(500):\n",
    "        series = patients.loc[i, patients.iloc[i,:].notna().values][1:24]\n",
    "        addData(series, prof, patients.loc[i, patients.iloc[i,:].notna().values][1])\n",
    "profData(health_insurance, None)\n"
   ]
  }
 ],
 "metadata": {
  "kernelspec": {
   "display_name": "Python 3 (ipykernel)",
   "language": "python",
   "name": "python3"
  },
  "language_info": {
   "codemirror_mode": {
    "name": "ipython",
    "version": 3
   },
   "file_extension": ".py",
   "mimetype": "text/x-python",
   "name": "python",
   "nbconvert_exporter": "python",
   "pygments_lexer": "ipython3",
   "version": "3.7.10"
  }
 },
 "nbformat": 4,
 "nbformat_minor": 5
}
