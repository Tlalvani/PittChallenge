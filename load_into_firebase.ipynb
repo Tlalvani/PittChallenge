{
 "cells": [
  {
   "cell_type": "code",
   "execution_count": 25,
   "id": "083c7636",
   "metadata": {},
   "outputs": [
    {
     "ename": "ValueError",
     "evalue": "The default Firebase app already exists. This means you called initialize_app() more than once without providing an app name as the second argument. In most cases you only need to call initialize_app() once. But if you do want to initialize multiple apps, pass a second argument to initialize_app() to give each app a unique name.",
     "output_type": "error",
     "traceback": [
      "\u001b[1;31m---------------------------------------------------------------------------\u001b[0m",
      "\u001b[1;31mValueError\u001b[0m                                Traceback (most recent call last)",
      "\u001b[1;32m~\\AppData\\Local\\Temp/ipykernel_23460/2666702812.py\u001b[0m in \u001b[0;36m<module>\u001b[1;34m\u001b[0m\n\u001b[0;32m      7\u001b[0m \u001b[0mpd\u001b[0m\u001b[1;33m.\u001b[0m\u001b[0mset_option\u001b[0m\u001b[1;33m(\u001b[0m\u001b[1;34m'display.max_columns'\u001b[0m\u001b[1;33m,\u001b[0m \u001b[1;32mNone\u001b[0m\u001b[1;33m)\u001b[0m\u001b[1;33m\u001b[0m\u001b[1;33m\u001b[0m\u001b[0m\n\u001b[0;32m      8\u001b[0m \u001b[0mcred\u001b[0m \u001b[1;33m=\u001b[0m \u001b[0mcredentials\u001b[0m\u001b[1;33m.\u001b[0m\u001b[0mCertificate\u001b[0m\u001b[1;33m(\u001b[0m\u001b[1;34m\"./key.json\"\u001b[0m\u001b[1;33m)\u001b[0m\u001b[1;33m\u001b[0m\u001b[1;33m\u001b[0m\u001b[0m\n\u001b[1;32m----> 9\u001b[1;33m \u001b[0mapp\u001b[0m \u001b[1;33m=\u001b[0m \u001b[0mfirebase_admin\u001b[0m\u001b[1;33m.\u001b[0m\u001b[0minitialize_app\u001b[0m\u001b[1;33m(\u001b[0m\u001b[0mcred\u001b[0m\u001b[1;33m)\u001b[0m\u001b[1;33m\u001b[0m\u001b[1;33m\u001b[0m\u001b[0m\n\u001b[0m",
      "\u001b[1;32m~\\Anaconda3\\envs\\Hackpsu\\lib\\site-packages\\firebase_admin\\__init__.py\u001b[0m in \u001b[0;36minitialize_app\u001b[1;34m(credential, options, name)\u001b[0m\n\u001b[0;32m     70\u001b[0m     \u001b[1;32mif\u001b[0m \u001b[0mname\u001b[0m \u001b[1;33m==\u001b[0m \u001b[0m_DEFAULT_APP_NAME\u001b[0m\u001b[1;33m:\u001b[0m\u001b[1;33m\u001b[0m\u001b[1;33m\u001b[0m\u001b[0m\n\u001b[0;32m     71\u001b[0m         raise ValueError((\n\u001b[1;32m---> 72\u001b[1;33m             \u001b[1;34m'The default Firebase app already exists. This means you called '\u001b[0m\u001b[1;33m\u001b[0m\u001b[1;33m\u001b[0m\u001b[0m\n\u001b[0m\u001b[0;32m     73\u001b[0m             \u001b[1;34m'initialize_app() more than once without providing an app name as '\u001b[0m\u001b[1;33m\u001b[0m\u001b[1;33m\u001b[0m\u001b[0m\n\u001b[0;32m     74\u001b[0m             \u001b[1;34m'the second argument. In most cases you only need to call '\u001b[0m\u001b[1;33m\u001b[0m\u001b[1;33m\u001b[0m\u001b[0m\n",
      "\u001b[1;31mValueError\u001b[0m: The default Firebase app already exists. This means you called initialize_app() more than once without providing an app name as the second argument. In most cases you only need to call initialize_app() once. But if you do want to initialize multiple apps, pass a second argument to initialize_app() to give each app a unique name."
     ]
    }
   ],
   "source": [
    "import pandas as pd\n",
    "import firebase_admin\n",
    "import google.cloud\n",
    "from firebase_admin import credentials, firestore\n",
    "\n",
    "cred = credentials.Certificate(\"./key.json\")\n",
    "app = firebase_admin.initialize_app(cred)"
   ]
  },
  {
   "cell_type": "code",
   "execution_count": 32,
   "id": "2f1b28c5",
   "metadata": {},
   "outputs": [],
   "source": [
    "pd.set_option('display.max_columns', None)\n",
    "pd.set_option('display.max_rows', None)"
   ]
  },
  {
   "cell_type": "code",
   "execution_count": 176,
   "id": "0d50f106",
   "metadata": {},
   "outputs": [
    {
     "name": "stdout",
     "output_type": "stream",
     "text": [
      "Index(['Unnamed: 0', 'Id', 'BIRTHDATE', 'DEATHDATE', 'SSN', 'DRIVERS',\n",
      "       'PASSPORT', 'PREFIX', 'FIRST', 'LAST', 'MARITAL', 'RACE', 'ETHNICITY',\n",
      "       'GENDER', 'BIRTHPLACE', 'ADDRESS', 'CITY', 'STATE', 'COUNTY', 'ZIP',\n",
      "       'LAT', 'LON', 'HEALTHCARE_EXPENSES', 'HEALTHCARE_COVERAGE'],\n",
      "      dtype='object')\n"
     ]
    }
   ],
   "source": [
    "patients = pd.read_csv('patients.csv')\n",
    "print(patients.columns[:24])\n",
    "patients = patients.drop('Unnamed: 0', axis=1)\n",
    "# patients.rename(columns={patients.columns})\n",
    "patients.columns = map(str.lower, patients.columns)\n",
    "patients['name'] = patients['first'].str.replace('\\d+', '', regex=True) +' ' + patients['last'].str.replace('\\d+', '', regex=True)\n",
    "patients = patients.drop_duplicates(subset='name')\n",
    "patients = patients.drop(['first', 'last'], axis=1)\n",
    "patients = patients.rename(columns={'gender': 'sex'})\n",
    "\n",
    "patients = patients.reset_index()"
   ]
  },
  {
   "cell_type": "code",
   "execution_count": 174,
   "id": "da267b41",
   "metadata": {},
   "outputs": [
    {
     "data": {
      "text/plain": [
       "971"
      ]
     },
     "execution_count": 174,
     "metadata": {},
     "output_type": "execute_result"
    }
   ],
   "source": [
    "\n",
    "pedi_index = []\n",
    "family_index=[]\n",
    "for i in patients.id.keys():\n",
    "    if int(patients['birthdate'][i][:4]) > 2003:\n",
    "        pedi_index.append(i)\n",
    "    else:\n",
    "        family_index.append(i)\n",
    "len(family_index)"
   ]
  },
  {
   "cell_type": "code",
   "execution_count": 172,
   "id": "3fa58ae9",
   "metadata": {},
   "outputs": [
    {
     "data": {
      "text/plain": [
       "Int64Index([  13,   20,   22,   26,   32,   34,   40,   45,   62,   80,\n",
       "            ...\n",
       "            1080, 1087, 1101, 1106, 1113, 1115, 1126, 1128, 1144, 1149],\n",
       "           dtype='int64', length=141)"
      ]
     },
     "execution_count": 172,
     "metadata": {},
     "output_type": "execute_result"
    }
   ],
   "source": [
    "allergy_index = patients[patients['allergies'].notna()].index\n",
    "allergy_index"
   ]
  },
  {
   "cell_type": "code",
   "execution_count": 186,
   "id": "321ac9b4",
   "metadata": {},
   "outputs": [
    {
     "data": {
      "text/plain": [
       "index                                                                                                                  0\n",
       "id                                                                                  1d604da9-9a81-4ba9-80c2-de3375d59b40\n",
       "birthdate                                                                                                     1989-05-25\n",
       "deathdate                                                                                                            NaN\n",
       "ssn                                                                                                          999-76-6866\n",
       "drivers                                                                                                        S99984236\n",
       "passport                                                                                                      X19277260X\n",
       "prefix                                                                                                               Mr.\n",
       "marital                                                                                                                M\n",
       "race                                                                                                               white\n",
       "ethnicity                                                                                                       hispanic\n",
       "sex                                                                                                                    M\n",
       "birthplace                                                                              Marigot  Saint Andrew Parish  DM\n",
       "address                                                                                       427 Balistreri Way Unit 19\n",
       "city                                                                                                            Chicopee\n",
       "state                                                                                                      Massachusetts\n",
       "county                                                                                                    Hampden County\n",
       "zip                                                                                                               1013.0\n",
       "lat                                                                                                            42.228354\n",
       "lon                                                                                                           -72.562951\n",
       "healthcare_expenses                                                                                            271227.08\n",
       "healthcare_coverage                                                                                              1334.88\n",
       "condition                                                                                   Chronic sinusitis (disorder)\n",
       "allergies                                                                                                            NaN\n",
       "alanine aminotransferase [enzymatic activity/volume] in serum or plasma                                              NaN\n",
       "albumin [mass/volume] in serum or plasma                                                                             NaN\n",
       "alkaline phosphatase [enzymatic activity/volume] in serum or plasma                                                  NaN\n",
       "american house dust mite ige ab in serum                                                                             NaN\n",
       "aspartate aminotransferase [enzymatic activity/volume] in serum or plasma                                            NaN\n",
       "bilirubin.total [mass/volume] in serum or plasma                                                                     NaN\n",
       "bilirubin.total [mass/volume] in urine by test strip                                                                 NaN\n",
       "body height                                                                                                        181.0\n",
       "body mass index                                                                                                     20.1\n",
       "body weight                                                                                                         65.8\n",
       "body mass index (bmi) [percentile] per age and gender                                                                NaN\n",
       "body temperature                                                                                                     NaN\n",
       "calcium                                                                                                              NaN\n",
       "carbon dioxide                                                                                                       NaN\n",
       "cat dander ige ab in serum                                                                                           NaN\n",
       "chloride                                                                                                             NaN\n",
       "cladosporium herbarum ige ab in serum                                                                                NaN\n",
       "codfish ige ab in serum                                                                                              NaN\n",
       "common ragweed ige ab in serum                                                                                       NaN\n",
       "cow milk ige ab in serum                                                                                             NaN\n",
       "creatinine                                                                                                           NaN\n",
       "daly                                                                                                                 0.1\n",
       "dxa [t-score] bone density                                                                                           NaN\n",
       "diastolic blood pressure                                                                                            83.0\n",
       "egg white ige ab in serum                                                                                            NaN\n",
       "erythrocyte distribution width [entitic volume] by automated count                                                  45.7\n",
       "erythrocytes [#/volume] in blood by automated count                                                                  4.2\n",
       "estimated glomerular filtration rate                                                                                 NaN\n",
       "fev1/fvc                                                                                                             NaN\n",
       "globulin [mass/volume] in serum by calculation                                                                       NaN\n",
       "glomerular filtration rate/1.73 sq m.predicted                                                                       NaN\n",
       "glucose                                                                                                              NaN\n",
       "glucose [mass/volume] in urine by test strip                                                                         NaN\n",
       "head occipital-frontal circumference                                                                                 NaN\n",
       "heart rate                                                                                                          87.0\n",
       "hematocrit [volume fraction] of blood                                                                                NaN\n",
       "hematocrit [volume fraction] of blood by automated count                                                            40.0\n",
       "hemoglobin a1c/hemoglobin.total in blood                                                                             NaN\n",
       "hemoglobin [mass/volume] in blood                                                                                   13.3\n",
       "hemoglobin.gastrointestinal [presence] in stool by immunologic method                                                NaN\n",
       "high density lipoprotein cholesterol                                                                                 NaN\n",
       "history of hospitalizations+outpatient visits                                                                        NaN\n",
       "honey bee ige ab in serum                                                                                            NaN\n",
       "ketones [mass/volume] in urine by test strip                                                                         NaN\n",
       "latex ige ab in serum                                                                                                NaN\n",
       "left ventricular ejection fraction                                                                                   NaN\n",
       "leukocytes [#/volume] in blood by automated count                                                                    9.5\n",
       "low density lipoprotein cholesterol                                                                                  NaN\n",
       "lymph nodes with isolated tumor cells [#] in cancer specimen by light microscopy                                     NaN\n",
       "lymph nodes with macrometastases [#] in cancer specimen by light microscopy                                          NaN\n",
       "lymph nodes with micrometastases [#] in cancer specimen by light microscopy                                          NaN\n",
       "mch [entitic mass] by automated count                                                                               29.9\n",
       "mchc [mass/volume] by automated count                                                                               34.8\n",
       "mcv [entitic volume] by automated count                                                                             93.9\n",
       "mental health outpatient note                                                                                        NaN\n",
       "microalbumin creatinine ratio                                                                                        NaN\n",
       "nt-probnp                                                                                                            NaN\n",
       "oxygen saturation in arterial blood                                                                                  NaN\n",
       "pain severity - 0-10 verbal numeric rating [score] - reported                                                        3.0\n",
       "peanut ige ab in serum                                                                                               NaN\n",
       "percentage area affected by eczema head and neck                                                                     NaN\n",
       "percentage area affected by eczema lower extremitiy - bilateral                                                      NaN\n",
       "percentage area affected by eczema trunk                                                                             NaN\n",
       "percentage area affected by eczema upper extremitiy - bilateral                                                      NaN\n",
       "platelet distribution width [entitic volume] in blood by automated count                                           495.1\n",
       "platelet mean volume [entitic volume] in blood by automated count                                                    9.5\n",
       "platelets [#/volume] in blood by automated count                                                                   188.6\n",
       "polyp size greatest dimension by cap cancer protocols                                                                NaN\n",
       "potassium                                                                                                            NaN\n",
       "prostate specific ag [mass/volume] in serum or plasma                                                                NaN\n",
       "protein [mass/volume] in serum or plasma                                                                             NaN\n",
       "protein [mass/volume] in urine by test strip                                                                         NaN\n",
       "qaly                                                                                                                19.9\n",
       "qols                                                                                                                 1.0\n",
       "rbc auto (bld) [#/vol]                                                                                               NaN\n",
       "rdw - erythrocyte distribution width auto (rbc) [entitic vol]                                                        NaN\n",
       "respiratory rate                                                                                                    13.0\n",
       "shrimp ige ab in serum                                                                                               NaN\n",
       "size.maximum dimension in tumor                                                                                      NaN\n",
       "sodium                                                                                                               NaN\n",
       "soybean ige ab in serum                                                                                              NaN\n",
       "specific gravity of urine by test strip                                                                              NaN\n",
       "systolic blood pressure                                                                                            107.0\n",
       "thyrotropin [units/volume] in serum or plasma                                                                        NaN\n",
       "thyroxine (t4) free [mass/volume] in serum or plasma                                                                 NaN\n",
       "total cholesterol                                                                                                    NaN\n",
       "total score [mmse]                                                                                                   NaN\n",
       "triglycerides                                                                                                        NaN\n",
       "urea nitrogen                                                                                                        NaN\n",
       "wbc auto (bld) [#/vol]                                                                                               NaN\n",
       "walnut ige ab in serum                                                                                               NaN\n",
       "weight difference [mass difference] --pre dialysis - post dialysis                                                   NaN\n",
       "weight-for-length per age and sex                                                                                    NaN\n",
       "wheat ige ab in serum                                                                                                NaN\n",
       "white oak ige ab in serum                                                                                            NaN\n",
       "ph of urine by test strip                                                                                            NaN\n",
       "name                                                                                                  José Eduardo Gómez\n",
       "Name: 0, dtype: object"
      ]
     },
     "execution_count": 186,
     "metadata": {},
     "output_type": "execute_result"
    }
   ],
   "source": [
    "patients.iloc[0,:]"
   ]
  },
  {
   "cell_type": "code",
   "execution_count": 138,
   "id": "4e54ef89",
   "metadata": {},
   "outputs": [],
   "source": [
    "db = firestore.client()\n",
    "\n",
    "def addData(s, doctor, patient_id): \n",
    "        mode_ref = db.collection(u'Professionals').document(doctor).collection(u'Patients').document(patient_id)\n",
    "#         for k, v in s.iteritems():\n",
    "        mode_ref.set(s.to_dict(),merge=True)\n",
    "\n"
   ]
  },
  {
   "cell_type": "code",
   "execution_count": 177,
   "id": "ec879bf9",
   "metadata": {},
   "outputs": [],
   "source": [
    "family = u'QM7V3Ud0gbOK907UD2rMnMQiGCN2'\n",
    "health_insurance = u'Hn6SZn6uj4RA7k9Owk8KHu12cRH2'\n",
    "pediatrician = u'yyRs0hOgEFXFJVe5ugZWystm1uh1'\n",
    "allerginist = u'5yGQKp4Fk4UY0oLkc9e5ylczmYp2'\n",
    "\n",
    "\n",
    "def insuranceData(prof, clients):\n",
    "    for i in range(clients):\n",
    "        series = patients.loc[i, patients.iloc[i,:].notna().values][1:24]\n",
    "        addData(series, prof, patients.loc[i, patients.iloc[i,:].notna().values][1])\n",
    "\n",
    "\n",
    "def profData(prof, clients):\n",
    "    for i in range(clients):\n",
    "        series = patients.loc[i, patients.iloc[i,:].notna().values][1:24]\n",
    "        addData(series, prof, patients.loc[i, patients.iloc[i,:].notna().values][1])\n"
   ]
  },
  {
   "cell_type": "code",
   "execution_count": null,
   "id": "3a3f4f41",
   "metadata": {},
   "outputs": [],
   "source": [
    "insuranceData(health_insurance, 500)\n",
    "profData(family, family_index)\n",
    "profData(allerginist, allergy_index)\n",
    "profData(pediatrician, pedi_index)"
   ]
  }
 ],
 "metadata": {
  "kernelspec": {
   "display_name": "Python 3 (ipykernel)",
   "language": "python",
   "name": "python3"
  },
  "language_info": {
   "codemirror_mode": {
    "name": "ipython",
    "version": 3
   },
   "file_extension": ".py",
   "mimetype": "text/x-python",
   "name": "python",
   "nbconvert_exporter": "python",
   "pygments_lexer": "ipython3",
   "version": "3.7.10"
  }
 },
 "nbformat": 4,
 "nbformat_minor": 5
}
